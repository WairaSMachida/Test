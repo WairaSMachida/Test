{
  "nbformat": 4,
  "nbformat_minor": 0,
  "metadata": {
    "colab": {
      "name": "Intro ao Python.ipynb",
      "version": "0.3.2",
      "provenance": [],
      "collapsed_sections": [],
      "toc_visible": true,
      "include_colab_link": true
    },
    "kernelspec": {
      "name": "python3",
      "display_name": "Python 3"
    }
  },
  "cells": [
    {
      "cell_type": "markdown",
      "metadata": {
        "id": "view-in-github",
        "colab_type": "text"
      },
      "source": [
        "[View in Colaboratory](https://colab.research.google.com/github/WairaSMachida/Test/blob/master/Intro_ao_Python.ipynb)"
      ]
    },
    {
      "metadata": {
        "id": "mg_APM1pTzeR",
        "colab_type": "code",
        "colab": {
          "base_uri": "https://localhost:8080/",
          "height": 51
        },
        "outputId": "a622db91-b63f-468d-fbca-f01c8d2c7eb2"
      },
      "cell_type": "code",
      "source": [
        "myvar = 4\n",
        "myvar\n",
        "print(myvar)\n",
        "\n",
        "5/2\n",
        "5//2\n",
        "type(\"c\")"
      ],
      "execution_count": 39,
      "outputs": [
        {
          "output_type": "stream",
          "text": [
            "4\n"
          ],
          "name": "stdout"
        },
        {
          "output_type": "execute_result",
          "data": {
            "text/plain": [
              "2"
            ]
          },
          "metadata": {
            "tags": []
          },
          "execution_count": 39
        }
      ]
    },
    {
      "metadata": {
        "id": "TiA0KxJ55dnY",
        "colab_type": "text"
      },
      "cell_type": "markdown",
      "source": [
        "# Introducao ao Python"
      ]
    },
    {
      "metadata": {
        "id": "BH_U9rAQmPrr",
        "colab_type": "code",
        "colab": {
          "base_uri": "https://localhost:8080/",
          "height": 238
        },
        "outputId": "0d4a3844-fbe2-44c3-9572-eb1be003ab5f"
      },
      "cell_type": "code",
      "source": [
        "l = []\n",
        "\n",
        "for i in range(11):\n",
        "  myvar = i+2\n",
        "  l = l + [myvar]\n",
        "  \n",
        "  print(myvar)\n",
        "print(\"Valor de myvar: \"+str(myvar))\n",
        "\"Valor de l: \"+str(l)"
      ],
      "execution_count": 56,
      "outputs": [
        {
          "output_type": "stream",
          "text": [
            "2\n",
            "3\n",
            "4\n",
            "5\n",
            "6\n",
            "7\n",
            "8\n",
            "9\n",
            "10\n",
            "11\n",
            "12\n",
            "Valor de myvar: 12\n"
          ],
          "name": "stdout"
        },
        {
          "output_type": "execute_result",
          "data": {
            "text/plain": [
              "'Valor de l: [2, 3, 4, 5, 6, 7, 8, 9, 10, 11, 12]'"
            ]
          },
          "metadata": {
            "tags": []
          },
          "execution_count": 56
        }
      ]
    },
    {
      "metadata": {
        "id": "iWegPeVImhk1",
        "colab_type": "code",
        "colab": {
          "base_uri": "https://localhost:8080/",
          "height": 34
        },
        "outputId": "fc024ab6-cc25-4947-c2bb-e00c1bbe085a"
      },
      "cell_type": "code",
      "source": [
        "ls = ['a','b','c', 'd']\n",
        "ls[1]"
      ],
      "execution_count": 35,
      "outputs": [
        {
          "output_type": "execute_result",
          "data": {
            "text/plain": [
              "'b'"
            ]
          },
          "metadata": {
            "tags": []
          },
          "execution_count": 35
        }
      ]
    },
    {
      "metadata": {
        "id": "VWFzVXXWoXxr",
        "colab_type": "code",
        "colab": {}
      },
      "cell_type": "code",
      "source": [
        "func = function(arg1, arg2){\n",
        "    return arg1 + arg2\n",
        "} #Isto no R"
      ],
      "execution_count": 0,
      "outputs": []
    },
    {
      "metadata": {
        "id": "cUYSx71zoiQL",
        "colab_type": "code",
        "colab": {}
      },
      "cell_type": "code",
      "source": [
        "def funcaoCachorro(arg1, arg2):\n",
        "  return arg1+arg2"
      ],
      "execution_count": 0,
      "outputs": []
    },
    {
      "metadata": {
        "id": "c438D21Fp7-j",
        "colab_type": "code",
        "colab": {}
      },
      "cell_type": "code",
      "source": [
        "def funcaoCachorro2(arg1, arg2):\n",
        "  print(arg1+arg2)"
      ],
      "execution_count": 0,
      "outputs": []
    },
    {
      "metadata": {
        "id": "WB6RwKXao2uu",
        "colab_type": "code",
        "colab": {
          "base_uri": "https://localhost:8080/",
          "height": 34
        },
        "outputId": "717f1435-ca62-4c26-ea6d-40aa166f114d"
      },
      "cell_type": "code",
      "source": [
        "funcaoCachorro(200,300)"
      ],
      "execution_count": 48,
      "outputs": [
        {
          "output_type": "execute_result",
          "data": {
            "text/plain": [
              "500"
            ]
          },
          "metadata": {
            "tags": []
          },
          "execution_count": 48
        }
      ]
    },
    {
      "metadata": {
        "id": "TJbyl-ropVSI",
        "colab_type": "code",
        "colab": {}
      },
      "cell_type": "code",
      "source": [
        "import pandas as pd"
      ],
      "execution_count": 0,
      "outputs": []
    },
    {
      "metadata": {
        "id": "4zsIuXQVrdty",
        "colab_type": "code",
        "colab": {
          "base_uri": "https://localhost:8080/",
          "height": 111
        },
        "outputId": "1a7b6697-40ff-44d0-d580-349f1283a490"
      },
      "cell_type": "code",
      "source": [
        "df = pd.DataFrame([[1,2,3],[4,5,6]], columns=[\"col1\",\"col2\",\"col3\"])\n",
        "df.describe()\n",
        "df.head()"
      ],
      "execution_count": 69,
      "outputs": [
        {
          "output_type": "execute_result",
          "data": {
            "text/html": [
              "<div>\n",
              "<style scoped>\n",
              "    .dataframe tbody tr th:only-of-type {\n",
              "        vertical-align: middle;\n",
              "    }\n",
              "\n",
              "    .dataframe tbody tr th {\n",
              "        vertical-align: top;\n",
              "    }\n",
              "\n",
              "    .dataframe thead th {\n",
              "        text-align: right;\n",
              "    }\n",
              "</style>\n",
              "<table border=\"1\" class=\"dataframe\">\n",
              "  <thead>\n",
              "    <tr style=\"text-align: right;\">\n",
              "      <th></th>\n",
              "      <th>col1</th>\n",
              "      <th>col2</th>\n",
              "      <th>col3</th>\n",
              "    </tr>\n",
              "  </thead>\n",
              "  <tbody>\n",
              "    <tr>\n",
              "      <th>0</th>\n",
              "      <td>1</td>\n",
              "      <td>2</td>\n",
              "      <td>3</td>\n",
              "    </tr>\n",
              "    <tr>\n",
              "      <th>1</th>\n",
              "      <td>4</td>\n",
              "      <td>5</td>\n",
              "      <td>6</td>\n",
              "    </tr>\n",
              "  </tbody>\n",
              "</table>\n",
              "</div>"
            ],
            "text/plain": [
              "   col1  col2  col3\n",
              "0     1     2     3\n",
              "1     4     5     6"
            ]
          },
          "metadata": {
            "tags": []
          },
          "execution_count": 69
        }
      ]
    },
    {
      "metadata": {
        "id": "S1VJSjRMuTMo",
        "colab_type": "code",
        "colab": {
          "base_uri": "https://localhost:8080/",
          "height": 68
        },
        "outputId": "65443d6c-328f-4492-a5cd-00b02bff3ece"
      },
      "cell_type": "code",
      "source": [
        "df.apply(sum)\n",
        "df.apply(sum, axis =1)"
      ],
      "execution_count": 72,
      "outputs": [
        {
          "output_type": "execute_result",
          "data": {
            "text/plain": [
              "0     6\n",
              "1    15\n",
              "dtype: int64"
            ]
          },
          "metadata": {
            "tags": []
          },
          "execution_count": 72
        }
      ]
    },
    {
      "metadata": {
        "id": "_SmpzYXZx611",
        "colab_type": "code",
        "colab": {
          "base_uri": "https://localhost:8080/",
          "height": 85
        },
        "outputId": "496a9961-e9a5-4b0e-cba1-4fa4b92b8dfe"
      },
      "cell_type": "code",
      "source": [
        "var1 = [[1,10], [2,10], [3,30], [4,40]]\n",
        "for i,j in var1:\n",
        "  print(i, j+i)"
      ],
      "execution_count": 74,
      "outputs": [
        {
          "output_type": "stream",
          "text": [
            "1 11\n",
            "2 12\n",
            "3 33\n",
            "4 44\n"
          ],
          "name": "stdout"
        }
      ]
    },
    {
      "metadata": {
        "id": "OK_Z7Oxuyduc",
        "colab_type": "code",
        "colab": {
          "base_uri": "https://localhost:8080/",
          "height": 34
        },
        "outputId": "95010d6b-d052-4890-e06c-1edeb7426c28"
      },
      "cell_type": "code",
      "source": [
        "vet = [1,2,3,4,5] # Aqui chamamos de lista\n",
        "names = {'a':0, 'b':1, 'c':2, 'd':3, \"e\":4}\n",
        "vet[names['c']] # aqui esta associando nomes ao vetor\n",
        "vet == 3"
      ],
      "execution_count": 76,
      "outputs": [
        {
          "output_type": "execute_result",
          "data": {
            "text/plain": [
              "False"
            ]
          },
          "metadata": {
            "tags": []
          },
          "execution_count": 76
        }
      ]
    },
    {
      "metadata": {
        "id": "E1YqM2r60DQs",
        "colab_type": "code",
        "colab": {
          "base_uri": "https://localhost:8080/",
          "height": 34
        },
        "outputId": "f0d8410b-048c-4e54-d07b-1111a473459f"
      },
      "cell_type": "code",
      "source": [
        "import numpy as np\n",
        "arr = np.array([1,2,3,4,5]) #isto aqui eh um vetor mesmo\n",
        "arr == 3"
      ],
      "execution_count": 80,
      "outputs": [
        {
          "output_type": "execute_result",
          "data": {
            "text/plain": [
              "array([False, False,  True, False, False])"
            ]
          },
          "metadata": {
            "tags": []
          },
          "execution_count": 80
        }
      ]
    },
    {
      "metadata": {
        "id": "XJaOevVB2lyq",
        "colab_type": "text"
      },
      "cell_type": "markdown",
      "source": [
        "# Estrutura condicionais\n",
        "Esta eh uma nova secao"
      ]
    },
    {
      "metadata": {
        "id": "059xt3sj2w6a",
        "colab_type": "code",
        "colab": {}
      },
      "cell_type": "code",
      "source": [
        "#if e else\n",
        "\n",
        "a = 10"
      ],
      "execution_count": 0,
      "outputs": []
    },
    {
      "metadata": {
        "id": "fq6k2P4u23e0",
        "colab_type": "code",
        "colab": {
          "base_uri": "https://localhost:8080/",
          "height": 34
        },
        "outputId": "561a6ec3-702b-42fe-e2f8-f1c64455d271"
      },
      "cell_type": "code",
      "source": [
        "if a > 10:\n",
        "  print(\"maior\") #neste caso no coloca maior porque nao eh igual a 10\n",
        "else:\n",
        "  if a == 10:\n",
        "    print(\"igual\")\n",
        "  else:\n",
        "    print(\"menor\")"
      ],
      "execution_count": 88,
      "outputs": [
        {
          "output_type": "stream",
          "text": [
            "igual\n"
          ],
          "name": "stdout"
        }
      ]
    },
    {
      "metadata": {
        "id": "2_13jmv03uZG",
        "colab_type": "code",
        "colab": {
          "base_uri": "https://localhost:8080/",
          "height": 34
        },
        "outputId": "4cd7a433-dcac-4cd9-b616-5ed8557b6217"
      },
      "cell_type": "code",
      "source": [
        "a = 11\n",
        "\n",
        "if a > 10:\n",
        "  print(\"maior\") #neste caso no coloca maior porque nao eh igual a 10\n",
        "elif a == 10:\n",
        "  print(\"igual\")\n",
        "else:\n",
        "  print(\"menor\")"
      ],
      "execution_count": 92,
      "outputs": [
        {
          "output_type": "stream",
          "text": [
            "maior\n"
          ],
          "name": "stdout"
        }
      ]
    },
    {
      "metadata": {
        "id": "1f7Bb6Nr3uN7",
        "colab_type": "code",
        "colab": {
          "base_uri": "https://localhost:8080/",
          "height": 34
        },
        "outputId": "86936007-babd-491f-e269-372c448ae800"
      },
      "cell_type": "code",
      "source": [
        "a = 200\n",
        "\n",
        "if a > 100:\n",
        "  print(\"muito maior\") \n",
        "elif a > 10:\n",
        "  print(\"maior\")\n",
        "elif a == 10:\n",
        "  print(\"igual\")\n",
        "elif a < 10:\n",
        "  print(\"menor\")\n",
        "elif a < 0:\n",
        "  print(\"negativo\")\n",
        "else:\n",
        "  print(\"nao sei o que dizer\")"
      ],
      "execution_count": 93,
      "outputs": [
        {
          "output_type": "stream",
          "text": [
            "muito maior\n"
          ],
          "name": "stdout"
        }
      ]
    },
    {
      "metadata": {
        "id": "Z4x9ufDH413t",
        "colab_type": "code",
        "colab": {
          "base_uri": "https://localhost:8080/",
          "height": 34
        },
        "outputId": "72445813-c903-46a8-9b55-e2065648ad4b"
      },
      "cell_type": "code",
      "source": [
        "a, b = 10, 20 # Como tem o and os dois valores tem que estar certos para dar true. Se colocar or sairia true\n",
        "\n",
        "if a > 10 or b >20:\n",
        "  print(\"True\") \n",
        "\n",
        "else:\n",
        "  print(\"false\")"
      ],
      "execution_count": 96,
      "outputs": [
        {
          "output_type": "stream",
          "text": [
            "True\n"
          ],
          "name": "stdout"
        }
      ]
    },
    {
      "metadata": {
        "id": "Q7bn_iHl5sK4",
        "colab_type": "code",
        "colab": {
          "base_uri": "https://localhost:8080/",
          "height": 34
        },
        "outputId": "94cfcade-2e92-40f9-cd67-8a315e5baee2"
      },
      "cell_type": "code",
      "source": [
        "np.array([True, True, False]) | np.array([True, False, False])"
      ],
      "execution_count": 97,
      "outputs": [
        {
          "output_type": "execute_result",
          "data": {
            "text/plain": [
              "array([ True,  True, False])"
            ]
          },
          "metadata": {
            "tags": []
          },
          "execution_count": 97
        }
      ]
    },
    {
      "metadata": {
        "id": "ILFMPnH76Vdj",
        "colab_type": "text"
      },
      "cell_type": "markdown",
      "source": [
        "De acordo com a equacao tal:\n",
        "\n",
        "$x=\\sum_{i = 0}^{N} = x_i  \\frac{2}{(n-1)}$$"
      ]
    }
  ]
}